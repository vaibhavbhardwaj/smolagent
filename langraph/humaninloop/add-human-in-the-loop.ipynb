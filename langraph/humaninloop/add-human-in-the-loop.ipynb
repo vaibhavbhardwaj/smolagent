{
 "cells": [
  {
   "cell_type": "code",
   "execution_count": 3,
   "id": "1a653ce0",
   "metadata": {},
   "outputs": [],
   "source": [
    "from typing import TypedDict\n",
    "import uuid\n",
    "\n",
    "from langgraph.checkpoint.memory import InMemorySaver\n",
    "from langgraph.constants import START\n",
    "from langgraph.graph import StateGraph\n",
    "# highlight-next-line\n",
    "from langgraph.types import interrupt, Command\n",
    "\n",
    "class State(TypedDict):\n",
    "    some_text: str\n",
    "\n",
    "def human_node(state: State):\n",
    "    # highlight-next-line\n",
    "    value = interrupt( # (1)!\n",
    "        {\n",
    "            \"text_to_revise\": state[\"some_text\"] # (2)!\n",
    "        }\n",
    "    )\n",
    "    return {\n",
    "        \"some_text\": value # (3)!\n",
    "    }\n",
    "\n"
   ]
  },
  {
   "cell_type": "code",
   "execution_count": 4,
   "id": "6c3c5941",
   "metadata": {},
   "outputs": [
    {
     "data": {
      "text/plain": [
       "<langgraph.graph.state.StateGraph at 0x17d342f46e0>"
      ]
     },
     "execution_count": 4,
     "metadata": {},
     "output_type": "execute_result"
    }
   ],
   "source": [
    "# Build the graph\n",
    "graph_builder = StateGraph(State)\n",
    "graph_builder.add_node(\"human_node\", human_node)\n",
    "graph_builder.add_edge(START, \"human_node\")"
   ]
  },
  {
   "cell_type": "code",
   "execution_count": 6,
   "id": "b68bc115",
   "metadata": {},
   "outputs": [],
   "source": [
    "checkpointer = InMemorySaver() # (4)!\n",
    "\n",
    "graph = graph_builder.compile(checkpointer=checkpointer)\n",
    "# Pass a thread ID to the graph to run it.\n",
    "config = {\"configurable\": {\"thread_id\": uuid.uuid4()}}"
   ]
  },
  {
   "cell_type": "code",
   "execution_count": 7,
   "id": "6e93bafc",
   "metadata": {},
   "outputs": [],
   "source": [
    "# Run the graph until the interrupt is hit.\n",
    "result = graph.invoke({\"some_text\": \"original text\"}, config=config) # (5)!"
   ]
  },
  {
   "cell_type": "code",
   "execution_count": 10,
   "id": "2c3d7547",
   "metadata": {},
   "outputs": [
    {
     "name": "stdout",
     "output_type": "stream",
     "text": [
      "[Interrupt(value={'text_to_revise': 'original text'}, resumable=True, ns=['human_node:d391523b-5fae-9680-29eb-009593d86a58'])]\n"
     ]
    }
   ],
   "source": [
    "print(result['__interrupt__']) # (6)!"
   ]
  },
  {
   "cell_type": "code",
   "execution_count": null,
   "id": "62152e31",
   "metadata": {},
   "outputs": [],
   "source": []
  }
 ],
 "metadata": {
  "kernelspec": {
   "display_name": ".venv",
   "language": "python",
   "name": "python3"
  },
  "language_info": {
   "codemirror_mode": {
    "name": "ipython",
    "version": 3
   },
   "file_extension": ".py",
   "mimetype": "text/x-python",
   "name": "python",
   "nbconvert_exporter": "python",
   "pygments_lexer": "ipython3",
   "version": "3.13.0"
  }
 },
 "nbformat": 4,
 "nbformat_minor": 5
}
