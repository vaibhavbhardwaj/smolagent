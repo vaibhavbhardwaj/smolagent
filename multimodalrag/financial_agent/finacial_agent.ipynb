{
 "cells": [
  {
   "cell_type": "code",
   "execution_count": 1,
   "id": "3cfbf878",
   "metadata": {},
   "outputs": [
    {
     "data": {
      "text/plain": [
       "True"
      ]
     },
     "execution_count": 1,
     "metadata": {},
     "output_type": "execute_result"
    }
   ],
   "source": [
    "import dotenv\n",
    "\n",
    "dotenv.load_dotenv(dotenv.find_dotenv())"
   ]
  },
  {
   "cell_type": "code",
   "execution_count": 2,
   "id": "f4ab187e",
   "metadata": {},
   "outputs": [],
   "source": [
    "import os\n",
    "\n",
    "groq_api_key = os.environ[\"GROQ_API_KEY\"]"
   ]
  },
  {
   "cell_type": "code",
   "execution_count": null,
   "id": "c66544c0",
   "metadata": {},
   "outputs": [
    {
     "data": {
      "text/plain": [
       "'0.2.62'"
      ]
     },
     "execution_count": 6,
     "metadata": {},
     "output_type": "execute_result"
    }
   ],
   "source": [
    "import yfinance as yf\n",
    "yf.__version__\n"
   ]
  },
  {
   "cell_type": "code",
   "execution_count": 7,
   "id": "a024f18b",
   "metadata": {},
   "outputs": [
    {
     "data": {
      "text/plain": [
       "ChatGroq(client=<groq.resources.chat.completions.Completions object at 0x000001E44C556900>, async_client=<groq.resources.chat.completions.AsyncCompletions object at 0x000001E44C557620>, model_name='llama3-8b-8192', model_kwargs={}, groq_api_key=SecretStr('**********'))"
      ]
     },
     "execution_count": 7,
     "metadata": {},
     "output_type": "execute_result"
    }
   ],
   "source": [
    "from langchain_groq import ChatGroq\n",
    "\n",
    "llama3 = ChatGroq(api_key=groq_api_key, model=\"llama3-8b-8192\")\n",
    "\n",
    "llama3"
   ]
  },
  {
   "cell_type": "code",
   "execution_count": 8,
   "id": "2dfb9a9d",
   "metadata": {},
   "outputs": [
    {
     "data": {
      "text/plain": [
       "AIMessage(content='I\\'m just a language model, I don\\'t have feelings or emotions like humans do, so I don\\'t have a personal experience of being \"good\" or \"bad\" or feeling any particular way. I exist solely to provide information and assist with tasks to the best of my ability! I\\'m here to help you with any questions or topics you\\'d like to discuss, though! How about you? How\\'s your day going?', additional_kwargs={}, response_metadata={'token_usage': {'completion_tokens': 88, 'prompt_tokens': 16, 'total_tokens': 104, 'completion_time': 0.073333333, 'prompt_time': 0.002464924, 'queue_time': 0.167290951, 'total_time': 0.075798257}, 'model_name': 'llama3-8b-8192', 'system_fingerprint': 'fp_dadc9d6142', 'finish_reason': 'stop', 'logprobs': None}, id='run--0f761109-f072-4513-b410-91c689c9e44d-0', usage_metadata={'input_tokens': 16, 'output_tokens': 88, 'total_tokens': 104})"
      ]
     },
     "execution_count": 8,
     "metadata": {},
     "output_type": "execute_result"
    }
   ],
   "source": [
    "llama3.invoke(\"Hello, How are you?\")"
   ]
  },
  {
   "cell_type": "markdown",
   "id": "843ccb76",
   "metadata": {},
   "source": [
    " Define Tools"
   ]
  },
  {
   "cell_type": "code",
   "execution_count": 9,
   "id": "7a3a9a8a",
   "metadata": {},
   "outputs": [],
   "source": [
    "from langchain_core.tools import tool, StructuredTool\n",
    "from datetime import date\n",
    "\n",
    "@tool\n",
    "def company_information(ticker: str) -> dict:\n",
    "    \"\"\"Use this tool to retrieve company information like address, industry, sector, company officers, business summary, website,\n",
    "       marketCap, current price, ebitda, total debt, total revenue, debt-to-equity, etc.\"\"\"\n",
    "    \n",
    "    ticker_obj = yf.Ticker(ticker)\n",
    "    ticker_info = ticker_obj.get_info()\n",
    "\n",
    "    return ticker_info\n",
    "\n",
    "@tool\n",
    "def last_dividend_and_earnings_date(ticker: str) -> dict:\n",
    "    \"\"\"\n",
    "    Use this tool to retrieve company's last dividend date and earnings release dates.\n",
    "    It does not provide information about historical dividend yields.\n",
    "    \"\"\"\n",
    "    ticker_obj = yf.Ticker(ticker)\n",
    "    \n",
    "    return ticker_obj.get_calendar()\n",
    "\n",
    "@tool\n",
    "def summary_of_mutual_fund_holders(ticker: str) -> dict:\n",
    "    \"\"\"\n",
    "    Use this tool to retrieve company's top mutual fund holders. \n",
    "    It also returns their percentage of share, stock count and value of holdings.\n",
    "    \"\"\"\n",
    "    ticker_obj = yf.Ticker(ticker)\n",
    "    mf_holders = ticker_obj.get_mutualfund_holders()\n",
    "    \n",
    "    return mf_holders.to_dict(orient=\"records\")\n",
    "\n",
    "@tool\n",
    "def summary_of_institutional_holders(ticker: str) -> dict:\n",
    "    \"\"\"\n",
    "    Use this tool to retrieve company's top institutional holders. \n",
    "    It also returns their percentage of share, stock count and value of holdings.\n",
    "    \"\"\"\n",
    "    ticker_obj = yf.Ticker(ticker)   \n",
    "    inst_holders = ticker_obj.get_institutional_holders()\n",
    "    \n",
    "    return inst_holders.to_dict(orient=\"records\")\n",
    "\n",
    "@tool\n",
    "def stock_grade_updrages_downgrades(ticker: str) -> dict:\n",
    "    \"\"\"\n",
    "    Use this to retrieve grade ratings upgrades and downgrades details of particular stock.\n",
    "    It'll provide name of firms along with 'To Grade' and 'From Grade' details. Grade date is also provided.\n",
    "    \"\"\"\n",
    "    ticker_obj = yf.Ticker(ticker)\n",
    "    \n",
    "    curr_year = date.today().year\n",
    "    \n",
    "    upgrades_downgrades = ticker_obj.get_upgrades_downgrades()\n",
    "    upgrades_downgrades = upgrades_downgrades.loc[upgrades_downgrades.index > f\"{curr_year}-01-01\"]\n",
    "    upgrades_downgrades = upgrades_downgrades[upgrades_downgrades[\"Action\"].isin([\"up\", \"down\"])]\n",
    "    \n",
    "    return upgrades_downgrades.to_dict(orient=\"records\")\n",
    "\n",
    "@tool\n",
    "def stock_splits_history(ticker: str) -> dict:\n",
    "    \"\"\"\n",
    "    Use this tool to retrieve company's historical stock splits data.\n",
    "    \"\"\"\n",
    "    ticker_obj = yf.Ticker(ticker)\n",
    "    hist_splits = ticker_obj.get_splits()\n",
    "    \n",
    "    return hist_splits.to_dict()\n",
    "\n",
    "@tool\n",
    "def stock_news(ticker: str) -> dict:\n",
    "    \"\"\"\n",
    "    Use this to retrieve latest news articles discussing particular stock ticker.\n",
    "    \"\"\"\n",
    "    ticker_obj = yf.Ticker(ticker)\n",
    "    \n",
    "    return ticker_obj.get_news()"
   ]
  },
  {
   "cell_type": "markdown",
   "id": "a66a5c31",
   "metadata": {},
   "source": [
    " Define Agent (LLM + Tools)"
   ]
  },
  {
   "cell_type": "code",
   "execution_count": 11,
   "id": "6f18f371",
   "metadata": {},
   "outputs": [],
   "source": [
    "from langchain.agents import AgentExecutor, create_tool_calling_agent\n",
    "from langchain_groq import ChatGroq\n",
    "from langchain.prompts import ChatPromptTemplate\n",
    "from langchain_core.prompts import MessagesPlaceholder\n",
    "\n",
    "tools = [\n",
    "         company_information,\n",
    "         last_dividend_and_earnings_date,\n",
    "         stock_splits_history,\n",
    "         summary_of_mutual_fund_holders,\n",
    "         summary_of_institutional_holders, \n",
    "         stock_grade_updrages_downgrades,\n",
    "         stock_news\n",
    "]\n",
    "\n",
    "prompt = ChatPromptTemplate.from_messages(\n",
    "    [\n",
    "        (\n",
    "            \"system\",\n",
    "            \"You are a helpful assistant. Try to answer user query using available tools.\",\n",
    "        ),\n",
    "        MessagesPlaceholder(variable_name=\"messages\"),\n",
    "        MessagesPlaceholder(variable_name=\"agent_scratchpad\"),\n",
    "    ]\n",
    ")\n",
    "\n",
    "llama3 = ChatGroq(api_key=groq_api_key, model=\"llama3-8b-8192\", temperature=0)\n",
    "\n",
    "finance_agent = create_tool_calling_agent(llama3, tools, prompt)\n",
    "\n",
    "finance_agent_executor = AgentExecutor(agent=finance_agent, tools=tools, verbose=True)"
   ]
  },
  {
   "cell_type": "code",
   "execution_count": 12,
   "id": "a09965df",
   "metadata": {},
   "outputs": [
    {
     "name": "stdout",
     "output_type": "stream",
     "text": [
      "\n",
      "\n",
      "\u001b[1m> Entering new AgentExecutor chain...\u001b[0m\n",
      "\u001b[32;1m\u001b[1;3m\n",
      "Invoking: `company_information` with `{'ticker': 'MSFT'}`\n",
      "\n",
      "\n",
      "\u001b[0m\u001b[36;1m\u001b[1;3m{'address1': 'One Microsoft Way', 'city': 'Redmond', 'state': 'WA', 'zip': '98052-6399', 'country': 'United States', 'phone': '425 882 8080', 'website': 'https://www.microsoft.com', 'industry': 'Software - Infrastructure', 'industryKey': 'software-infrastructure', 'industryDisp': 'Software - Infrastructure', 'sector': 'Technology', 'sectorKey': 'technology', 'sectorDisp': 'Technology', 'longBusinessSummary': 'Microsoft Corporation develops and supports software, services, devices and solutions worldwide. The Productivity and Business Processes segment offers office, exchange, SharePoint, Microsoft Teams, office 365 Security and Compliance, Microsoft viva, and Microsoft 365 copilot; and office consumer services, such as Microsoft 365 consumer subscriptions, Office licensed on-premises, and other office services. This segment also provides LinkedIn; and dynamics business solutions, including Dynamics 365, a set of intelligent, cloud-based applications across ERP, CRM, power apps, and power automate; and on-premises ERP and CRM applications. The Intelligent Cloud segment offers server products and cloud services, such as azure and other cloud services; SQL and windows server, visual studio, system center, and related client access licenses, as well as nuance and GitHub; and enterprise services including enterprise support services, industry solutions, and nuance professional services. The More Personal Computing segment offers Windows, including windows OEM licensing and other non-volume licensing of the Windows operating system; Windows commercial comprising volume licensing of the Windows operating system, windows cloud services, and other Windows commercial offerings; patent licensing; and windows Internet of Things; and devices, such as surface, HoloLens, and PC accessories. Additionally, this segment provides gaming, which includes Xbox hardware and content, and first- and third-party content; Xbox game pass and other subscriptions, cloud gaming, advertising, third-party disc royalties, and other cloud services; and search and news advertising, which includes Bing, Microsoft News and Edge, and third-party affiliates. The company sells its products through OEMs, distributors, and resellers; and directly through digital marketplaces, online, and retail stores. The company was founded in 1975 and is headquartered in Redmond, Washington.', 'fullTimeEmployees': 228000, 'companyOfficers': [{'maxAge': 1, 'name': 'Mr. Satya  Nadella', 'age': 57, 'title': 'Chairman & CEO', 'yearBorn': 1967, 'fiscalYear': 2024, 'totalPay': 7869791, 'exercisedValue': 0, 'unexercisedValue': 0}, {'maxAge': 1, 'name': 'Mr. Bradford L. Smith LCA', 'age': 65, 'title': 'President & Vice Chairman', 'yearBorn': 1959, 'fiscalYear': 2024, 'totalPay': 4755618, 'exercisedValue': 0, 'unexercisedValue': 0}, {'maxAge': 1, 'name': 'Ms. Amy E. Hood', 'age': 52, 'title': 'Executive VP & CFO', 'yearBorn': 1972, 'fiscalYear': 2024, 'totalPay': 4704250, 'exercisedValue': 0, 'unexercisedValue': 0}, {'maxAge': 1, 'name': 'Mr. Judson B. Althoff', 'age': 50, 'title': 'Executive VP & Chief Commercial Officer', 'yearBorn': 1974, 'fiscalYear': 2024, 'totalPay': 4534974, 'exercisedValue': 0, 'unexercisedValue': 0}, {'maxAge': 1, 'name': 'Ms. Carolina  Dybeck Happe', 'age': 52, 'title': 'Executive VP & COO', 'yearBorn': 1972, 'fiscalYear': 2024, 'exercisedValue': 0, 'unexercisedValue': 0}, {'maxAge': 1, 'name': 'Ms. Alice L. Jolla', 'age': 58, 'title': 'Corporate VP & Chief Accounting Officer', 'yearBorn': 1966, 'fiscalYear': 2024, 'exercisedValue': 0, 'unexercisedValue': 0}, {'maxAge': 1, 'name': 'Jonathan  Neilson', 'title': 'Vice President of Investor Relations', 'fiscalYear': 2024, 'exercisedValue': 0, 'unexercisedValue': 0}, {'maxAge': 1, 'name': 'Mr. Hossein  Nowbar', 'title': 'Chief Legal Officer', 'fiscalYear': 2024, 'exercisedValue': 0, 'unexercisedValue': 0}, {'maxAge': 1, 'name': 'Mr. Frank X. Shaw', 'title': 'Chief Communications Officer', 'fiscalYear': 2024, 'exercisedValue': 0, 'unexercisedValue': 0}, {'maxAge': 1, 'name': 'Mr. Takeshi  Numoto', 'age': 53, 'title': 'Executive VP & Chief Marketing Officer', 'yearBorn': 1971, 'fiscalYear': 2024, 'exercisedValue': 0, 'unexercisedValue': 0}], 'auditRisk': 9, 'boardRisk': 5, 'compensationRisk': 4, 'shareHolderRightsRisk': 2, 'overallRisk': 3, 'governanceEpochDate': 1748736000, 'compensationAsOfEpochDate': 1735603200, 'irWebsite': 'http://www.microsoft.com/investor/default.aspx', 'executiveTeam': [], 'maxAge': 86400, 'priceHint': 2, 'previousClose': 470.38, 'open': 469.68, 'dayLow': 468.62, 'dayHigh': 471.225, 'regularMarketPreviousClose': 470.38, 'regularMarketOpen': 469.68, 'regularMarketDayLow': 468.62, 'regularMarketDayHigh': 471.225, 'dividendRate': 3.32, 'dividendYield': 0.71, 'exDividendDate': 1747267200, 'payoutRatio': 0.2442, 'fiveYearAvgDividendYield': 0.83, 'beta': 1.026, 'trailingPE': 36.336555, 'forwardPE': 31.451172, 'volume': 3201601, 'regularMarketVolume': 3201601, 'averageVolume': 23690753, 'averageVolume10days': 18563270, 'averageDailyVolume10Day': 18563270, 'bid': 467.53, 'ask': 472.97, 'bidSize': 3, 'askSize': 4, 'marketCap': 3494743375872, 'fiftyTwoWeekLow': 344.79, 'fiftyTwoWeekHigh': 473.34, 'priceToSalesTrailing12Months': 12.943014, 'fiftyDayAverage': 416.5078, 'twoHundredDayAverage': 418.1891, 'trailingAnnualDividendRate': 3.24, 'trailingAnnualDividendYield': 0.006888048, 'currency': 'USD', 'tradeable': False, 'enterpriseValue': 3521520861184, 'profitMargins': 0.35789, 'floatShares': 7422063978, 'sharesOutstanding': 7432540160, 'sharesShort': 57074580, 'sharesShortPriorMonth': 51249494, 'sharesShortPreviousMonthDate': 1744675200, 'dateShortInterest': 1747267200, 'sharesPercentSharesOut': 0.0077, 'heldPercentInsiders': 0.00063, 'heldPercentInstitutions': 0.74698997, 'shortRatio': 2.48, 'shortPercentOfFloat': 0.0077, 'impliedSharesOutstanding': 7432540160, 'bookValue': 43.3, 'priceToBook': 10.859007, 'lastFiscalYearEnd': 1719705600, 'nextFiscalYearEnd': 1751241600, 'mostRecentQuarter': 1743379200, 'earningsQuarterlyGrowth': 0.177, 'netIncomeToCommon': 96635002880, 'trailingEps': 12.94, 'forwardEps': 14.95, 'lastSplitFactor': '2:1', 'lastSplitDate': 1045526400, 'enterpriseToRevenue': 13.042, 'enterpriseToEbitda': 23.607, '52WeekChange': 0.0993526, 'SandP52WeekChange': 0.119305134, 'lastDividendValue': 0.83, 'lastDividendDate': 1747267200, 'quoteType': 'EQUITY', 'currentPrice': 470.195, 'targetHighPrice': 650.0, 'targetLowPrice': 429.86, 'targetMeanPrice': 511.0414, 'targetMedianPrice': 502.5, 'recommendationMean': 1.43333, 'recommendationKey': 'strong_buy', 'numberOfAnalystOpinions': 50, 'totalCash': 79617998848, 'totalCashPerShare': 10.712, 'ebitda': 149172994048, 'totalDebt': 105018998784, 'quickRatio': 1.244, 'currentRatio': 1.372, 'totalRevenue': 270010007552, 'debtToEquity': 32.626, 'revenuePerShare': 36.325, 'returnOnAssets': 0.14581999, 'returnOnEquity': 0.3361, 'grossProfits': 186509000704, 'freeCashflow': 54817001472, 'operatingCashflow': 130710003712, 'earningsGrowth': 0.177, 'revenueGrowth': 0.133, 'grossMargins': 0.69074994, 'ebitdaMargins': 0.55247, 'operatingMargins': 0.45671, 'financialCurrency': 'USD', 'symbol': 'MSFT', 'language': 'en-US', 'region': 'US', 'typeDisp': 'Equity', 'quoteSourceName': 'Nasdaq Real Time Price', 'triggerable': True, 'customPriceAlertConfidence': 'HIGH', 'marketState': 'REGULAR', 'shortName': 'Microsoft Corporation', 'longName': 'Microsoft Corporation', 'corporateActions': [], 'regularMarketTime': 1749480774, 'exchange': 'NMS', 'messageBoardId': 'finmb_21835', 'exchangeTimezoneName': 'America/New_York', 'exchangeTimezoneShortName': 'EDT', 'gmtOffSetMilliseconds': -14400000, 'market': 'us_market', 'esgPopulated': False, 'regularMarketChangePercent': -0.039329384, 'regularMarketPrice': 470.195, 'hasPrePostMarketData': True, 'firstTradeDateMilliseconds': 511108200000, 'regularMarketChange': -0.18499756, 'regularMarketDayRange': '468.62 - 471.225', 'fullExchangeName': 'NasdaqGS', 'averageDailyVolume3Month': 23690753, 'fiftyTwoWeekLowChange': 125.405, 'fiftyTwoWeekLowChangePercent': 0.36371413, 'fiftyTwoWeekRange': '344.79 - 473.34', 'fiftyTwoWeekHighChange': -3.144989, 'fiftyTwoWeekHighChangePercent': -0.0066442494, 'fiftyTwoWeekChangePercent': 9.93526, 'dividendDate': 1749686400, 'earningsTimestamp': 1746043200, 'earningsTimestampStart': 1753732800, 'earningsTimestampEnd': 1754078400, 'earningsCallTimestampStart': 1746048600, 'earningsCallTimestampEnd': 1746048600, 'isEarningsDateEstimate': True, 'epsTrailingTwelveMonths': 12.94, 'epsForward': 14.95, 'epsCurrentYear': 13.39189, 'priceEpsCurrentYear': 35.11043, 'fiftyDayAverageChange': 53.687195, 'fiftyDayAverageChangePercent': 0.12889841, 'twoHundredDayAverageChange': 52.00592, 'twoHundredDayAverageChangePercent': 0.124359824, 'sourceInterval': 15, 'exchangeDataDelayedBy': 0, 'averageAnalystRating': '1.4 - Strong Buy', 'cryptoTradeable': False, 'displayName': 'Microsoft', 'trailingPegRatio': 2.2062}\u001b[0m\u001b[32;1m\u001b[1;3mThe address of Microsoft is One Microsoft Way, Redmond, WA 98052-6399, United States.\u001b[0m\n",
      "\n",
      "\u001b[1m> Finished chain.\u001b[0m\n"
     ]
    }
   ],
   "source": [
    "from langchain_core.messages import HumanMessage\n",
    "\n",
    "resp = finance_agent_executor.invoke({\"messages\": [HumanMessage(content=\"What is address of microsoft?\")]})"
   ]
  },
  {
   "cell_type": "code",
   "execution_count": 13,
   "id": "c156a0d3",
   "metadata": {},
   "outputs": [
    {
     "name": "stdout",
     "output_type": "stream",
     "text": [
      "The address of Microsoft is One Microsoft Way, Redmond, WA 98052-6399, United States.\n"
     ]
    }
   ],
   "source": [
    "print(resp[\"output\"])"
   ]
  },
  {
   "cell_type": "code",
   "execution_count": 14,
   "id": "8452a338",
   "metadata": {},
   "outputs": [
    {
     "name": "stdout",
     "output_type": "stream",
     "text": [
      "\n",
      "\n",
      "\u001b[1m> Entering new AgentExecutor chain...\u001b[0m\n",
      "\u001b[32;1m\u001b[1;3m\n",
      "Invoking: `company_information` with `{'ticker': 'MSFT'}`\n",
      "\n",
      "\n",
      "\u001b[0m\u001b[36;1m\u001b[1;3m{'address1': 'One Microsoft Way', 'city': 'Redmond', 'state': 'WA', 'zip': '98052-6399', 'country': 'United States', 'phone': '425 882 8080', 'website': 'https://www.microsoft.com', 'industry': 'Software - Infrastructure', 'industryKey': 'software-infrastructure', 'industryDisp': 'Software - Infrastructure', 'sector': 'Technology', 'sectorKey': 'technology', 'sectorDisp': 'Technology', 'longBusinessSummary': 'Microsoft Corporation develops and supports software, services, devices and solutions worldwide. The Productivity and Business Processes segment offers office, exchange, SharePoint, Microsoft Teams, office 365 Security and Compliance, Microsoft viva, and Microsoft 365 copilot; and office consumer services, such as Microsoft 365 consumer subscriptions, Office licensed on-premises, and other office services. This segment also provides LinkedIn; and dynamics business solutions, including Dynamics 365, a set of intelligent, cloud-based applications across ERP, CRM, power apps, and power automate; and on-premises ERP and CRM applications. The Intelligent Cloud segment offers server products and cloud services, such as azure and other cloud services; SQL and windows server, visual studio, system center, and related client access licenses, as well as nuance and GitHub; and enterprise services including enterprise support services, industry solutions, and nuance professional services. The More Personal Computing segment offers Windows, including windows OEM licensing and other non-volume licensing of the Windows operating system; Windows commercial comprising volume licensing of the Windows operating system, windows cloud services, and other Windows commercial offerings; patent licensing; and windows Internet of Things; and devices, such as surface, HoloLens, and PC accessories. Additionally, this segment provides gaming, which includes Xbox hardware and content, and first- and third-party content; Xbox game pass and other subscriptions, cloud gaming, advertising, third-party disc royalties, and other cloud services; and search and news advertising, which includes Bing, Microsoft News and Edge, and third-party affiliates. The company sells its products through OEMs, distributors, and resellers; and directly through digital marketplaces, online, and retail stores. The company was founded in 1975 and is headquartered in Redmond, Washington.', 'fullTimeEmployees': 228000, 'companyOfficers': [{'maxAge': 1, 'name': 'Mr. Satya  Nadella', 'age': 57, 'title': 'Chairman & CEO', 'yearBorn': 1967, 'fiscalYear': 2024, 'totalPay': 7869791, 'exercisedValue': 0, 'unexercisedValue': 0}, {'maxAge': 1, 'name': 'Mr. Bradford L. Smith LCA', 'age': 65, 'title': 'President & Vice Chairman', 'yearBorn': 1959, 'fiscalYear': 2024, 'totalPay': 4755618, 'exercisedValue': 0, 'unexercisedValue': 0}, {'maxAge': 1, 'name': 'Ms. Amy E. Hood', 'age': 52, 'title': 'Executive VP & CFO', 'yearBorn': 1972, 'fiscalYear': 2024, 'totalPay': 4704250, 'exercisedValue': 0, 'unexercisedValue': 0}, {'maxAge': 1, 'name': 'Mr. Judson B. Althoff', 'age': 50, 'title': 'Executive VP & Chief Commercial Officer', 'yearBorn': 1974, 'fiscalYear': 2024, 'totalPay': 4534974, 'exercisedValue': 0, 'unexercisedValue': 0}, {'maxAge': 1, 'name': 'Ms. Carolina  Dybeck Happe', 'age': 52, 'title': 'Executive VP & COO', 'yearBorn': 1972, 'fiscalYear': 2024, 'exercisedValue': 0, 'unexercisedValue': 0}, {'maxAge': 1, 'name': 'Ms. Alice L. Jolla', 'age': 58, 'title': 'Corporate VP & Chief Accounting Officer', 'yearBorn': 1966, 'fiscalYear': 2024, 'exercisedValue': 0, 'unexercisedValue': 0}, {'maxAge': 1, 'name': 'Jonathan  Neilson', 'title': 'Vice President of Investor Relations', 'fiscalYear': 2024, 'exercisedValue': 0, 'unexercisedValue': 0}, {'maxAge': 1, 'name': 'Mr. Hossein  Nowbar', 'title': 'Chief Legal Officer', 'fiscalYear': 2024, 'exercisedValue': 0, 'unexercisedValue': 0}, {'maxAge': 1, 'name': 'Mr. Frank X. Shaw', 'title': 'Chief Communications Officer', 'fiscalYear': 2024, 'exercisedValue': 0, 'unexercisedValue': 0}, {'maxAge': 1, 'name': 'Mr. Takeshi  Numoto', 'age': 53, 'title': 'Executive VP & Chief Marketing Officer', 'yearBorn': 1971, 'fiscalYear': 2024, 'exercisedValue': 0, 'unexercisedValue': 0}], 'auditRisk': 9, 'boardRisk': 5, 'compensationRisk': 4, 'shareHolderRightsRisk': 2, 'overallRisk': 3, 'governanceEpochDate': 1748736000, 'compensationAsOfEpochDate': 1735603200, 'irWebsite': 'http://www.microsoft.com/investor/default.aspx', 'executiveTeam': [], 'maxAge': 86400, 'priceHint': 2, 'previousClose': 470.38, 'open': 469.68, 'dayLow': 468.62, 'dayHigh': 471.225, 'regularMarketPreviousClose': 470.38, 'regularMarketOpen': 469.68, 'regularMarketDayLow': 468.62, 'regularMarketDayHigh': 471.225, 'dividendRate': 3.32, 'dividendYield': 0.71, 'exDividendDate': 1747267200, 'payoutRatio': 0.2442, 'fiveYearAvgDividendYield': 0.83, 'beta': 1.026, 'trailingPE': 36.332767, 'forwardPE': 31.447893, 'volume': 3217959, 'regularMarketVolume': 3217959, 'averageVolume': 23690753, 'averageVolume10days': 18563270, 'averageDailyVolume10Day': 18563270, 'bid': 467.53, 'ask': 472.97, 'bidSize': 3, 'askSize': 4, 'marketCap': 3494378995712, 'fiftyTwoWeekLow': 344.79, 'fiftyTwoWeekHigh': 473.34, 'priceToSalesTrailing12Months': 12.941665, 'fiftyDayAverage': 416.5078, 'twoHundredDayAverage': 418.1891, 'trailingAnnualDividendRate': 3.24, 'trailingAnnualDividendYield': 0.006888048, 'currency': 'USD', 'tradeable': False, 'enterpriseValue': 3521520861184, 'profitMargins': 0.35789, 'floatShares': 7422063978, 'sharesOutstanding': 7432540160, 'sharesShort': 57074580, 'sharesShortPriorMonth': 51249494, 'sharesShortPreviousMonthDate': 1744675200, 'dateShortInterest': 1747267200, 'sharesPercentSharesOut': 0.0077, 'heldPercentInsiders': 0.00063, 'heldPercentInstitutions': 0.74698997, 'shortRatio': 2.48, 'shortPercentOfFloat': 0.0077, 'impliedSharesOutstanding': 7432540160, 'bookValue': 43.3, 'priceToBook': 10.857876, 'lastFiscalYearEnd': 1719705600, 'nextFiscalYearEnd': 1751241600, 'mostRecentQuarter': 1743379200, 'earningsQuarterlyGrowth': 0.177, 'netIncomeToCommon': 96635002880, 'trailingEps': 12.94, 'forwardEps': 14.95, 'lastSplitFactor': '2:1', 'lastSplitDate': 1045526400, 'enterpriseToRevenue': 13.042, 'enterpriseToEbitda': 23.607, '52WeekChange': 0.0993526, 'SandP52WeekChange': 0.119305134, 'lastDividendValue': 0.83, 'lastDividendDate': 1747267200, 'quoteType': 'EQUITY', 'currentPrice': 470.146, 'targetHighPrice': 650.0, 'targetLowPrice': 429.86, 'targetMeanPrice': 511.0414, 'targetMedianPrice': 502.5, 'recommendationMean': 1.43333, 'recommendationKey': 'strong_buy', 'numberOfAnalystOpinions': 50, 'totalCash': 79617998848, 'totalCashPerShare': 10.712, 'ebitda': 149172994048, 'totalDebt': 105018998784, 'quickRatio': 1.244, 'currentRatio': 1.372, 'totalRevenue': 270010007552, 'debtToEquity': 32.626, 'revenuePerShare': 36.325, 'returnOnAssets': 0.14581999, 'returnOnEquity': 0.3361, 'grossProfits': 186509000704, 'freeCashflow': 54817001472, 'operatingCashflow': 130710003712, 'earningsGrowth': 0.177, 'revenueGrowth': 0.133, 'grossMargins': 0.69074994, 'ebitdaMargins': 0.55247, 'operatingMargins': 0.45671, 'financialCurrency': 'USD', 'symbol': 'MSFT', 'language': 'en-US', 'region': 'US', 'typeDisp': 'Equity', 'quoteSourceName': 'Nasdaq Real Time Price', 'triggerable': True, 'customPriceAlertConfidence': 'HIGH', 'cryptoTradeable': False, 'shortName': 'Microsoft Corporation', 'exchange': 'NMS', 'messageBoardId': 'finmb_21835', 'exchangeTimezoneName': 'America/New_York', 'exchangeTimezoneShortName': 'EDT', 'gmtOffSetMilliseconds': -14400000, 'market': 'us_market', 'esgPopulated': False, 'regularMarketChangePercent': -0.049748883, 'regularMarketPrice': 470.146, 'marketState': 'REGULAR', 'longName': 'Microsoft Corporation', 'corporateActions': [], 'regularMarketTime': 1749480826, 'hasPrePostMarketData': True, 'firstTradeDateMilliseconds': 511108200000, 'regularMarketChange': -0.23400879, 'regularMarketDayRange': '468.62 - 471.225', 'fullExchangeName': 'NasdaqGS', 'averageDailyVolume3Month': 23690753, 'fiftyTwoWeekLowChange': 125.35599, 'fiftyTwoWeekLowChangePercent': 0.36357197, 'fiftyTwoWeekRange': '344.79 - 473.34', 'fiftyTwoWeekHighChange': -3.1940002, 'fiftyTwoWeekHighChangePercent': -0.006747793, 'fiftyTwoWeekChangePercent': 9.93526, 'dividendDate': 1749686400, 'earningsTimestamp': 1746043200, 'earningsTimestampStart': 1753732800, 'earningsTimestampEnd': 1754078400, 'earningsCallTimestampStart': 1746048600, 'earningsCallTimestampEnd': 1746048600, 'isEarningsDateEstimate': True, 'epsTrailingTwelveMonths': 12.94, 'epsForward': 14.95, 'epsCurrentYear': 13.39189, 'priceEpsCurrentYear': 35.10677, 'fiftyDayAverageChange': 53.638184, 'fiftyDayAverageChangePercent': 0.12878074, 'twoHundredDayAverageChange': 51.95691, 'twoHundredDayAverageChangePercent': 0.124242626, 'sourceInterval': 15, 'exchangeDataDelayedBy': 0, 'averageAnalystRating': '1.4 - Strong Buy', 'displayName': 'Microsoft', 'trailingPegRatio': 2.2062}\u001b[0m\u001b[32;1m\u001b[1;3mBased on the tool call result, the last close price of Microsoft (MSFT) is 470.38.\u001b[0m\n",
      "\n",
      "\u001b[1m> Finished chain.\u001b[0m\n",
      "Based on the tool call result, the last close price of Microsoft (MSFT) is 470.38.\n"
     ]
    }
   ],
   "source": [
    "resp = finance_agent_executor.invoke({\"messages\": [HumanMessage(content=\"What is last close price of microsoft?\")]})\n",
    "print(resp[\"output\"])"
   ]
  },
  {
   "cell_type": "code",
   "execution_count": 17,
   "id": "a921faed",
   "metadata": {},
   "outputs": [
    {
     "name": "stdout",
     "output_type": "stream",
     "text": [
      "\n",
      "\n",
      "\u001b[1m> Entering new AgentExecutor chain...\u001b[0m\n",
      "\u001b[32;1m\u001b[1;3m\n",
      "Invoking: `company_information` with `{'ticker': 'MSFT'}`\n",
      "\n",
      "\n",
      "\u001b[0m\u001b[36;1m\u001b[1;3m{'address1': 'One Microsoft Way', 'city': 'Redmond', 'state': 'WA', 'zip': '98052-6399', 'country': 'United States', 'phone': '425 882 8080', 'website': 'https://www.microsoft.com', 'industry': 'Software - Infrastructure', 'industryKey': 'software-infrastructure', 'industryDisp': 'Software - Infrastructure', 'sector': 'Technology', 'sectorKey': 'technology', 'sectorDisp': 'Technology', 'longBusinessSummary': 'Microsoft Corporation develops and supports software, services, devices and solutions worldwide. The Productivity and Business Processes segment offers office, exchange, SharePoint, Microsoft Teams, office 365 Security and Compliance, Microsoft viva, and Microsoft 365 copilot; and office consumer services, such as Microsoft 365 consumer subscriptions, Office licensed on-premises, and other office services. This segment also provides LinkedIn; and dynamics business solutions, including Dynamics 365, a set of intelligent, cloud-based applications across ERP, CRM, power apps, and power automate; and on-premises ERP and CRM applications. The Intelligent Cloud segment offers server products and cloud services, such as azure and other cloud services; SQL and windows server, visual studio, system center, and related client access licenses, as well as nuance and GitHub; and enterprise services including enterprise support services, industry solutions, and nuance professional services. The More Personal Computing segment offers Windows, including windows OEM licensing and other non-volume licensing of the Windows operating system; Windows commercial comprising volume licensing of the Windows operating system, windows cloud services, and other Windows commercial offerings; patent licensing; and windows Internet of Things; and devices, such as surface, HoloLens, and PC accessories. Additionally, this segment provides gaming, which includes Xbox hardware and content, and first- and third-party content; Xbox game pass and other subscriptions, cloud gaming, advertising, third-party disc royalties, and other cloud services; and search and news advertising, which includes Bing, Microsoft News and Edge, and third-party affiliates. The company sells its products through OEMs, distributors, and resellers; and directly through digital marketplaces, online, and retail stores. The company was founded in 1975 and is headquartered in Redmond, Washington.', 'fullTimeEmployees': 228000, 'companyOfficers': [{'maxAge': 1, 'name': 'Mr. Satya  Nadella', 'age': 57, 'title': 'Chairman & CEO', 'yearBorn': 1967, 'fiscalYear': 2024, 'totalPay': 7869791, 'exercisedValue': 0, 'unexercisedValue': 0}, {'maxAge': 1, 'name': 'Mr. Bradford L. Smith LCA', 'age': 65, 'title': 'President & Vice Chairman', 'yearBorn': 1959, 'fiscalYear': 2024, 'totalPay': 4755618, 'exercisedValue': 0, 'unexercisedValue': 0}, {'maxAge': 1, 'name': 'Ms. Amy E. Hood', 'age': 52, 'title': 'Executive VP & CFO', 'yearBorn': 1972, 'fiscalYear': 2024, 'totalPay': 4704250, 'exercisedValue': 0, 'unexercisedValue': 0}, {'maxAge': 1, 'name': 'Mr. Judson B. Althoff', 'age': 50, 'title': 'Executive VP & Chief Commercial Officer', 'yearBorn': 1974, 'fiscalYear': 2024, 'totalPay': 4534974, 'exercisedValue': 0, 'unexercisedValue': 0}, {'maxAge': 1, 'name': 'Ms. Carolina  Dybeck Happe', 'age': 52, 'title': 'Executive VP & COO', 'yearBorn': 1972, 'fiscalYear': 2024, 'exercisedValue': 0, 'unexercisedValue': 0}, {'maxAge': 1, 'name': 'Ms. Alice L. Jolla', 'age': 58, 'title': 'Corporate VP & Chief Accounting Officer', 'yearBorn': 1966, 'fiscalYear': 2024, 'exercisedValue': 0, 'unexercisedValue': 0}, {'maxAge': 1, 'name': 'Jonathan  Neilson', 'title': 'Vice President of Investor Relations', 'fiscalYear': 2024, 'exercisedValue': 0, 'unexercisedValue': 0}, {'maxAge': 1, 'name': 'Mr. Hossein  Nowbar', 'title': 'Chief Legal Officer', 'fiscalYear': 2024, 'exercisedValue': 0, 'unexercisedValue': 0}, {'maxAge': 1, 'name': 'Mr. Frank X. Shaw', 'title': 'Chief Communications Officer', 'fiscalYear': 2024, 'exercisedValue': 0, 'unexercisedValue': 0}, {'maxAge': 1, 'name': 'Mr. Takeshi  Numoto', 'age': 53, 'title': 'Executive VP & Chief Marketing Officer', 'yearBorn': 1971, 'fiscalYear': 2024, 'exercisedValue': 0, 'unexercisedValue': 0}], 'auditRisk': 9, 'boardRisk': 5, 'compensationRisk': 4, 'shareHolderRightsRisk': 2, 'overallRisk': 3, 'governanceEpochDate': 1748736000, 'compensationAsOfEpochDate': 1735603200, 'irWebsite': 'http://www.microsoft.com/investor/default.aspx', 'executiveTeam': [], 'maxAge': 86400, 'priceHint': 2, 'previousClose': 470.38, 'open': 469.68, 'dayLow': 468.62, 'dayHigh': 471.225, 'regularMarketPreviousClose': 470.38, 'regularMarketOpen': 469.68, 'regularMarketDayLow': 468.62, 'regularMarketDayHigh': 471.225, 'dividendRate': 3.32, 'dividendYield': 0.71, 'exDividendDate': 1747267200, 'payoutRatio': 0.2442, 'fiveYearAvgDividendYield': 0.83, 'beta': 1.026, 'trailingPE': 36.316074, 'forwardPE': 31.433445, 'volume': 3248378, 'regularMarketVolume': 3248378, 'averageVolume': 23690753, 'averageVolume10days': 18563270, 'averageDailyVolume10Day': 18563270, 'bid': 467.53, 'ask': 472.97, 'bidSize': 3, 'askSize': 4, 'marketCap': 3492773625856, 'fiftyTwoWeekLow': 344.79, 'fiftyTwoWeekHigh': 473.34, 'priceToSalesTrailing12Months': 12.9357195, 'fiftyDayAverage': 416.5078, 'twoHundredDayAverage': 418.1891, 'trailingAnnualDividendRate': 3.24, 'trailingAnnualDividendYield': 0.006888048, 'currency': 'USD', 'tradeable': False, 'enterpriseValue': 3521520861184, 'profitMargins': 0.35789, 'floatShares': 7422063978, 'sharesOutstanding': 7432540160, 'sharesShort': 57074580, 'sharesShortPriorMonth': 51249494, 'sharesShortPreviousMonthDate': 1744675200, 'dateShortInterest': 1747267200, 'sharesPercentSharesOut': 0.0077, 'heldPercentInsiders': 0.00063, 'heldPercentInstitutions': 0.74698997, 'shortRatio': 2.48, 'shortPercentOfFloat': 0.0077, 'impliedSharesOutstanding': 7432540160, 'bookValue': 43.3, 'priceToBook': 10.852887, 'lastFiscalYearEnd': 1719705600, 'nextFiscalYearEnd': 1751241600, 'mostRecentQuarter': 1743379200, 'earningsQuarterlyGrowth': 0.177, 'netIncomeToCommon': 96635002880, 'trailingEps': 12.94, 'forwardEps': 14.95, 'lastSplitFactor': '2:1', 'lastSplitDate': 1045526400, 'enterpriseToRevenue': 13.042, 'enterpriseToEbitda': 23.607, '52WeekChange': 0.0993526, 'SandP52WeekChange': 0.119305134, 'lastDividendValue': 0.83, 'lastDividendDate': 1747267200, 'quoteType': 'EQUITY', 'currentPrice': 469.93, 'targetHighPrice': 650.0, 'targetLowPrice': 429.86, 'targetMeanPrice': 511.0414, 'targetMedianPrice': 502.5, 'recommendationMean': 1.43333, 'recommendationKey': 'strong_buy', 'numberOfAnalystOpinions': 50, 'totalCash': 79617998848, 'totalCashPerShare': 10.712, 'ebitda': 149172994048, 'totalDebt': 105018998784, 'quickRatio': 1.244, 'currentRatio': 1.372, 'totalRevenue': 270010007552, 'debtToEquity': 32.626, 'revenuePerShare': 36.325, 'returnOnAssets': 0.14581999, 'returnOnEquity': 0.3361, 'grossProfits': 186509000704, 'freeCashflow': 54817001472, 'operatingCashflow': 130710003712, 'earningsGrowth': 0.177, 'revenueGrowth': 0.133, 'grossMargins': 0.69074994, 'ebitdaMargins': 0.55247, 'operatingMargins': 0.45671, 'financialCurrency': 'USD', 'symbol': 'MSFT', 'language': 'en-US', 'region': 'US', 'typeDisp': 'Equity', 'quoteSourceName': 'Nasdaq Real Time Price', 'triggerable': True, 'customPriceAlertConfidence': 'HIGH', 'marketState': 'REGULAR', 'regularMarketChangePercent': -0.095669925, 'regularMarketPrice': 469.93, 'shortName': 'Microsoft Corporation', 'longName': 'Microsoft Corporation', 'corporateActions': [], 'regularMarketTime': 1749480881, 'exchange': 'NMS', 'messageBoardId': 'finmb_21835', 'exchangeTimezoneName': 'America/New_York', 'exchangeTimezoneShortName': 'EDT', 'gmtOffSetMilliseconds': -14400000, 'market': 'us_market', 'esgPopulated': False, 'fiftyDayAverageChange': 53.42218, 'fiftyDayAverageChangePercent': 0.12826213, 'twoHundredDayAverageChange': 51.740906, 'twoHundredDayAverageChangePercent': 0.1237261, 'sourceInterval': 15, 'exchangeDataDelayedBy': 0, 'averageAnalystRating': '1.4 - Strong Buy', 'cryptoTradeable': False, 'hasPrePostMarketData': True, 'firstTradeDateMilliseconds': 511108200000, 'regularMarketChange': -0.4500122, 'regularMarketDayRange': '468.62 - 471.225', 'fullExchangeName': 'NasdaqGS', 'averageDailyVolume3Month': 23690753, 'fiftyTwoWeekLowChange': 125.139984, 'fiftyTwoWeekLowChangePercent': 0.3629455, 'fiftyTwoWeekRange': '344.79 - 473.34', 'fiftyTwoWeekHighChange': -3.4100037, 'fiftyTwoWeekHighChangePercent': -0.0072041317, 'fiftyTwoWeekChangePercent': 9.93526, 'dividendDate': 1749686400, 'earningsTimestamp': 1746043200, 'earningsTimestampStart': 1753732800, 'earningsTimestampEnd': 1754078400, 'earningsCallTimestampStart': 1746048600, 'earningsCallTimestampEnd': 1746048600, 'isEarningsDateEstimate': True, 'epsTrailingTwelveMonths': 12.94, 'epsForward': 14.95, 'epsCurrentYear': 13.39189, 'priceEpsCurrentYear': 35.09064, 'displayName': 'Microsoft', 'trailingPegRatio': 2.2062}\u001b[0m\u001b[32;1m\u001b[1;3mAccording to the tool call result, the dividend yield for Microsoft stock (MSFT) is 0.71%.\u001b[0m\n",
      "\n",
      "\u001b[1m> Finished chain.\u001b[0m\n",
      "According to the tool call result, the dividend yield for Microsoft stock (MSFT) is 0.71%.\n"
     ]
    }
   ],
   "source": [
    "resp = finance_agent_executor.invoke({\"messages\": [HumanMessage(content=\"What is dividend yield for microsoft stock?\")]})\n",
    "print(resp[\"output\"])"
   ]
  },
  {
   "cell_type": "code",
   "execution_count": 18,
   "id": "a4a79449",
   "metadata": {},
   "outputs": [
    {
     "name": "stdout",
     "output_type": "stream",
     "text": [
      "\n",
      "\n",
      "\u001b[1m> Entering new AgentExecutor chain...\u001b[0m\n",
      "\u001b[32;1m\u001b[1;3m\n",
      "Invoking: `company_information` with `{'ticker': 'NVDA'}`\n",
      "\n",
      "\n",
      "\u001b[0m\u001b[36;1m\u001b[1;3m{'address1': '2788 San Tomas Expressway', 'city': 'Santa Clara', 'state': 'CA', 'zip': '95051', 'country': 'United States', 'phone': '408 486 2000', 'website': 'https://www.nvidia.com', 'industry': 'Semiconductors', 'industryKey': 'semiconductors', 'industryDisp': 'Semiconductors', 'sector': 'Technology', 'sectorKey': 'technology', 'sectorDisp': 'Technology', 'longBusinessSummary': \"NVIDIA Corporation, a computing infrastructure company, provides graphics and compute and networking solutions in the United States, Singapore, Taiwan, China, Hong Kong, and internationally. The Compute & Networking segment comprises Data Center computing platforms and end-to-end networking platforms, including Quantum for InfiniBand and Spectrum for Ethernet; NVIDIA DRIVE automated-driving platform and automotive development agreements; Jetson robotics and other embedded platforms; NVIDIA AI Enterprise and other software; and DGX Cloud software and services. The Graphics segment offers GeForce GPUs for gaming and PCs, the GeForce NOW game streaming service and related infrastructure, and solutions for gaming platforms; Quadro/NVIDIA RTX GPUs for enterprise workstation graphics; virtual GPU or vGPU software for cloud-based visual and virtual computing; automotive platforms for infotainment systems; and Omniverse software for building and operating industrial AI and digital twin applications. It also customized agentic solutions designed in collaboration with NVIDIA to accelerate enterprise AI adoption. The company's products are used in gaming, professional visualization, data center, and automotive markets. It sells its products to original equipment manufacturers, original device manufacturers, system integrators and distributors, independent software vendors, cloud service providers, consumer internet companies, add-in board manufacturers, distributors, automotive manufacturers and tier-1 automotive suppliers, and other ecosystem participants. NVIDIA Corporation was incorporated in 1993 and is headquartered in Santa Clara, California.\", 'fullTimeEmployees': 36000, 'companyOfficers': [{'maxAge': 1, 'name': 'Mr. Jen-Hsun  Huang', 'age': 61, 'title': 'Co-Founder, CEO, President & Director', 'yearBorn': 1963, 'fiscalYear': 2025, 'totalPay': 11054945, 'exercisedValue': 0, 'unexercisedValue': 0}, {'maxAge': 1, 'name': 'Ms. Colette M. Kress', 'age': 57, 'title': 'Executive VP & CFO', 'yearBorn': 1967, 'fiscalYear': 2025, 'totalPay': 1512641, 'exercisedValue': 0, 'unexercisedValue': 0}, {'maxAge': 1, 'name': 'Ms. Debora  Shoquist', 'age': 69, 'title': 'Executive Vice President of Operations', 'yearBorn': 1955, 'fiscalYear': 2025, 'totalPay': 1379071, 'exercisedValue': 0, 'unexercisedValue': 0}, {'maxAge': 1, 'name': 'Mr. Timothy S. Teter J.D.', 'age': 57, 'title': 'Executive VP, General Counsel & Secretary', 'yearBorn': 1967, 'fiscalYear': 2025, 'totalPay': 1362989, 'exercisedValue': 0, 'unexercisedValue': 0}, {'maxAge': 1, 'name': 'Mr. Ajay K. Puri', 'age': 69, 'title': 'Executive Vice President of Worldwide Field Operations', 'yearBorn': 1955, 'fiscalYear': 2025, 'totalPay': 2313851, 'exercisedValue': 0, 'unexercisedValue': 0}, {'maxAge': 1, 'name': 'Mr. Chris A. Malachowsky', 'title': 'Co-Founder', 'fiscalYear': 2025, 'totalPay': 320000, 'exercisedValue': 0, 'unexercisedValue': 0}, {'maxAge': 1, 'name': 'Mr. Donald F. Robertson Jr.', 'age': 55, 'title': 'VP & Chief Accounting Officer', 'yearBorn': 1969, 'fiscalYear': 2025, 'exercisedValue': 0, 'unexercisedValue': 0}, {'maxAge': 1, 'name': 'Prof. William J. Dally Ph.D.', 'age': 63, 'title': 'Chief Scientist & Senior VP of Research', 'yearBorn': 1961, 'fiscalYear': 2025, 'exercisedValue': 0, 'unexercisedValue': 0}, {'maxAge': 1, 'name': 'Mr. Toshiya  Hari', 'title': 'Vice President of Investor Relations & Strategic Finance', 'fiscalYear': 2025, 'exercisedValue': 0, 'unexercisedValue': 0}, {'maxAge': 1, 'name': 'Ms. Mylene  Mangalindan', 'title': 'VP of Corporate Communications', 'fiscalYear': 2025, 'exercisedValue': 0, 'unexercisedValue': 0}], 'auditRisk': 9, 'boardRisk': 10, 'compensationRisk': 3, 'shareHolderRightsRisk': 6, 'overallRisk': 8, 'governanceEpochDate': 1748736000, 'compensationAsOfEpochDate': 1767139200, 'irWebsite': 'http://phx.corporate-ir.net/phoenix.zhtml?c=116466&p=irol-IRHome', 'executiveTeam': [], 'maxAge': 86400, 'priceHint': 2, 'previousClose': 141.72, 'open': 143.265, 'dayLow': 142.9, 'dayHigh': 145.0, 'regularMarketPreviousClose': 141.72, 'regularMarketOpen': 143.265, 'regularMarketDayLow': 142.9, 'regularMarketDayHigh': 145.0, 'dividendRate': 0.04, 'dividendYield': 0.03, 'exDividendDate': 1749600000, 'payoutRatio': 0.0128999995, 'fiveYearAvgDividendYield': 0.07, 'beta': 2.122, 'trailingPE': 46.60371, 'forwardPE': 35.0659, 'volume': 63535313, 'regularMarketVolume': 63535313, 'averageVolume': 269248184, 'averageVolume10days': 237358800, 'averageDailyVolume10Day': 237358800, 'bid': 144.22, 'ask': 144.72, 'bidSize': 1, 'askSize': 1, 'marketCap': 3523313139712, 'fiftyTwoWeekLow': 86.62, 'fiftyTwoWeekHigh': 153.13, 'priceToSalesTrailing12Months': 23.72362, 'fiftyDayAverage': 118.4044, 'twoHundredDayAverage': 127.2197, 'trailingAnnualDividendRate': 0.04, 'trailingAnnualDividendYield': 0.00028224668, 'currency': 'USD', 'tradeable': False, 'enterpriseValue': 3414561914880, 'profitMargins': 0.51694, 'floatShares': 23418632000, 'sharesOutstanding': 24387600384, 'sharesShort': 243993623, 'sharesShortPriorMonth': 262957336, 'sharesShortPreviousMonthDate': 1744675200, 'dateShortInterest': 1747267200, 'sharesPercentSharesOut': 0.01, 'heldPercentInsiders': 0.043319996, 'heldPercentInstitutions': 0.67525, 'shortRatio': 1.05, 'shortPercentOfFloat': 0.0104, 'impliedSharesOutstanding': 24723800064, 'bookValue': 3.438, 'priceToBook': 42.02196, 'lastFiscalYearEnd': 1737849600, 'nextFiscalYearEnd': 1769385600, 'mostRecentQuarter': 1745712000, 'earningsQuarterlyGrowth': 0.262, 'netIncomeToCommon': 76773998592, 'trailingEps': 3.1, 'forwardEps': 4.12, 'lastSplitFactor': '10:1', 'lastSplitDate': 1717977600, 'enterpriseToRevenue': 22.991, 'enterpriseToEbitda': 38.693, '52WeekChange': 0.16364229, 'SandP52WeekChange': 0.119305134, 'lastDividendValue': 0.01, 'lastDividendDate': 1741737600, 'quoteType': 'EQUITY', 'currentPrice': 144.4715, 'targetHighPrice': 220.0, 'targetLowPrice': 100.0, 'targetMeanPrice': 172.02219, 'targetMedianPrice': 175.0, 'recommendationMean': 1.4375, 'recommendationKey': 'strong_buy', 'numberOfAnalystOpinions': 55, 'totalCash': 53690998784, 'totalCashPerShare': 2.2, 'ebitda': 88247001088, 'totalDebt': 10284999680, 'quickRatio': 2.857, 'currentRatio': 3.388, 'totalRevenue': 148514996224, 'debtToEquity': 12.267, 'revenuePerShare': 6.059, 'returnOnAssets': 0.53244996, 'returnOnEquity': 1.15463, 'grossProfits': 104120000512, 'freeCashflow': 55443001344, 'operatingCashflow': 76158001152, 'earningsGrowth': 0.267, 'revenueGrowth': 0.692, 'grossMargins': 0.70107, 'ebitdaMargins': 0.59419996, 'operatingMargins': 0.49108002, 'financialCurrency': 'USD', 'symbol': 'NVDA', 'language': 'en-US', 'region': 'US', 'typeDisp': 'Equity', 'quoteSourceName': 'Nasdaq Real Time Price', 'triggerable': True, 'customPriceAlertConfidence': 'HIGH', 'hasPrePostMarketData': True, 'firstTradeDateMilliseconds': 917015400000, 'regularMarketChange': 2.7514954, 'regularMarketDayRange': '142.9 - 145.0', 'fullExchangeName': 'NasdaqGS', 'averageDailyVolume3Month': 269248184, 'fiftyTwoWeekLowChange': 57.851494, 'fiftyTwoWeekLowChangePercent': 0.66787684, 'fiftyTwoWeekRange': '86.62 - 153.13', 'fiftyTwoWeekHighChange': -8.658508, 'fiftyTwoWeekHighChangePercent': -0.05654351, 'fiftyTwoWeekChangePercent': 16.36423, 'dividendDate': 1751500800, 'earningsTimestamp': 1756324800, 'earningsTimestampStart': 1756324800, 'earningsTimestampEnd': 1756324800, 'earningsCallTimestampStart': 1748466000, 'earningsCallTimestampEnd': 1748466000, 'isEarningsDateEstimate': False, 'epsTrailingTwelveMonths': 3.1, 'epsForward': 4.12, 'epsCurrentYear': 4.27677, 'priceEpsCurrentYear': 33.780514, 'fiftyDayAverageChange': 26.067093, 'fiftyDayAverageChangePercent': 0.22015306, 'twoHundredDayAverageChange': 17.251793, 'twoHundredDayAverageChangePercent': 0.1356063, 'sourceInterval': 15, 'exchangeDataDelayedBy': 0, 'averageAnalystRating': '1.4 - Strong Buy', 'cryptoTradeable': False, 'regularMarketChangePercent': 1.9415011, 'regularMarketPrice': 144.4715, 'longName': 'NVIDIA Corporation', 'marketState': 'REGULAR', 'shortName': 'NVIDIA Corporation', 'corporateActions': [], 'regularMarketTime': 1749480930, 'exchange': 'NMS', 'messageBoardId': 'finmb_32307', 'exchangeTimezoneName': 'America/New_York', 'exchangeTimezoneShortName': 'EDT', 'gmtOffSetMilliseconds': -14400000, 'market': 'us_market', 'esgPopulated': False, 'displayName': 'NVIDIA', 'trailingPegRatio': 1.7572}\u001b[0m\u001b[32;1m\u001b[1;3mBased on the provided information, here are the values for ebitda, total debt, total revenue, and debt-to-equity for Nvidia stock:\n",
      "\n",
      "* EBITDA: 88247001088\n",
      "* Total Debt: 10284999680\n",
      "* Total Revenue: 148514996224\n",
      "* Debt-to-Equity: 12.267\n",
      "\n",
      "Please note that these values are based on the company's latest available financial data and may not reflect the current market situation.\u001b[0m\n",
      "\n",
      "\u001b[1m> Finished chain.\u001b[0m\n"
     ]
    }
   ],
   "source": [
    "resp = finance_agent_executor.invoke({\"messages\": [HumanMessage(content=\"What are ebitda, total debt, total revenue and debt-to-equity for Nvidia stock?\")]})"
   ]
  },
  {
   "cell_type": "code",
   "execution_count": 19,
   "id": "3860d92c",
   "metadata": {},
   "outputs": [
    {
     "name": "stdout",
     "output_type": "stream",
     "text": [
      "\n",
      "\n",
      "\u001b[1m> Entering new AgentExecutor chain...\u001b[0m\n",
      "\u001b[32;1m\u001b[1;3m\n",
      "Invoking: `company_information` with `{'ticker': 'AAPL'}`\n",
      "\n",
      "\n",
      "\u001b[0m\u001b[36;1m\u001b[1;3m{'address1': 'One Apple Park Way', 'city': 'Cupertino', 'state': 'CA', 'zip': '95014', 'country': 'United States', 'phone': '(408) 996-1010', 'website': 'https://www.apple.com', 'industry': 'Consumer Electronics', 'industryKey': 'consumer-electronics', 'industryDisp': 'Consumer Electronics', 'sector': 'Technology', 'sectorKey': 'technology', 'sectorDisp': 'Technology', 'longBusinessSummary': 'Apple Inc. designs, manufactures, and markets smartphones, personal computers, tablets, wearables, and accessories worldwide. The company offers iPhone, a line of smartphones; Mac, a line of personal computers; iPad, a line of multi-purpose tablets; and wearables, home, and accessories comprising AirPods, Apple TV, Apple Watch, Beats products, and HomePod. It also provides AppleCare support and cloud services; and operates various platforms, including the App Store that allow customers to discover and download applications and digital content, such as books, music, video, games, and podcasts, as well as advertising services include third-party licensing arrangements and its own advertising platforms. In addition, the company offers various subscription-based services, such as Apple Arcade, a game subscription service; Apple Fitness+, a personalized fitness service; Apple Music, which offers users a curated listening experience with on-demand radio stations; Apple News+, a subscription news and magazine service; Apple TV+, which offers exclusive original content; Apple Card, a co-branded credit card; and Apple Pay, a cashless payment service, as well as licenses its intellectual property. The company serves consumers, and small and mid-sized businesses; and the education, enterprise, and government markets. It distributes third-party applications for its products through the App Store. The company also sells its products through its retail and online stores, and direct sales force; and third-party cellular network carriers, wholesalers, retailers, and resellers. Apple Inc. was founded in 1976 and is headquartered in Cupertino, California.', 'fullTimeEmployees': 164000, 'companyOfficers': [{'maxAge': 1, 'name': 'Mr. Timothy D. Cook', 'age': 63, 'title': 'CEO & Director', 'yearBorn': 1961, 'fiscalYear': 2024, 'totalPay': 16520856, 'exercisedValue': 0, 'unexercisedValue': 0}, {'maxAge': 1, 'name': 'Mr. Jeffrey E. Williams', 'age': 60, 'title': 'Chief Operating Officer', 'yearBorn': 1964, 'fiscalYear': 2024, 'totalPay': 5020737, 'exercisedValue': 0, 'unexercisedValue': 0}, {'maxAge': 1, 'name': 'Ms. Katherine L. Adams', 'age': 60, 'title': 'Senior VP, General Counsel & Secretary', 'yearBorn': 1964, 'fiscalYear': 2024, 'totalPay': 5022182, 'exercisedValue': 0, 'unexercisedValue': 0}, {'maxAge': 1, 'name': \"Ms. Deirdre  O'Brien\", 'age': 57, 'title': 'Chief People Officer & Senior VP of Retail', 'yearBorn': 1967, 'fiscalYear': 2024, 'totalPay': 5022182, 'exercisedValue': 0, 'unexercisedValue': 0}, {'maxAge': 1, 'name': 'Mr. Kevan  Parekh', 'age': 52, 'title': 'Senior VP & CFO', 'yearBorn': 1972, 'fiscalYear': 2024, 'exercisedValue': 0, 'unexercisedValue': 0}, {'maxAge': 1, 'name': 'Mr. Chris  Kondo', 'title': 'Senior Director of Corporate Accounting', 'fiscalYear': 2024, 'exercisedValue': 0, 'unexercisedValue': 0}, {'maxAge': 1, 'name': 'Suhasini  Chandramouli', 'title': 'Director of Investor Relations', 'fiscalYear': 2024, 'exercisedValue': 0, 'unexercisedValue': 0}, {'maxAge': 1, 'name': 'Ms. Kristin Huguet Quayle', 'title': 'Vice President of Worldwide Communications', 'fiscalYear': 2024, 'exercisedValue': 0, 'unexercisedValue': 0}, {'maxAge': 1, 'name': 'Mr. Greg  Joswiak', 'title': 'Senior Vice President of Worldwide Marketing', 'fiscalYear': 2024, 'exercisedValue': 0, 'unexercisedValue': 0}, {'maxAge': 1, 'name': 'Mr. Adrian  Perica', 'age': 50, 'title': 'Vice President of Corporate Development', 'yearBorn': 1974, 'fiscalYear': 2024, 'exercisedValue': 0, 'unexercisedValue': 0}], 'auditRisk': 7, 'boardRisk': 1, 'compensationRisk': 3, 'shareHolderRightsRisk': 1, 'overallRisk': 1, 'governanceEpochDate': 1748736000, 'compensationAsOfEpochDate': 1735603200, 'irWebsite': 'http://investor.apple.com/', 'executiveTeam': [], 'maxAge': 86400, 'priceHint': 2, 'previousClose': 203.92, 'open': 204.39, 'dayLow': 203.98, 'dayHigh': 206.0, 'regularMarketPreviousClose': 203.92, 'regularMarketOpen': 204.39, 'regularMarketDayLow': 203.98, 'regularMarketDayHigh': 206.0, 'dividendRate': 1.04, 'dividendYield': 0.51, 'exDividendDate': 1747008000, 'payoutRatio': 0.1558, 'fiveYearAvgDividendYield': 0.56, 'beta': 1.211, 'trailingPE': 31.88084, 'forwardPE': 24.629963, 'volume': 12657724, 'regularMarketVolume': 12657724, 'averageVolume': 61982165, 'averageVolume10days': 52935200, 'averageDailyVolume10Day': 52935200, 'bid': 204.03, 'ask': 206.97, 'bidSize': 4, 'askSize': 4, 'marketCap': 3056984915968, 'fiftyTwoWeekLow': 169.21, 'fiftyTwoWeekHigh': 260.1, 'priceToSalesTrailing12Months': 7.6354756, 'fiftyDayAverage': 203.6794, 'twoHundredDayAverage': 225.1178, 'trailingAnnualDividendRate': 1.0, 'trailingAnnualDividendYield': 0.004903884, 'currency': 'USD', 'tradeable': False, 'enterpriseValue': 3095401594880, 'profitMargins': 0.24301, 'floatShares': 14911480604, 'sharesOutstanding': 14935799808, 'sharesShort': 105169332, 'sharesShortPriorMonth': 113127198, 'sharesShortPreviousMonthDate': 1744675200, 'dateShortInterest': 1747267200, 'sharesPercentSharesOut': 0.0069999998, 'heldPercentInsiders': 0.02085, 'heldPercentInstitutions': 0.62898, 'shortRatio': 1.97, 'shortPercentOfFloat': 0.0069999998, 'impliedSharesOutstanding': 15098900480, 'bookValue': 4.471, 'priceToBook': 45.778347, 'lastFiscalYearEnd': 1727481600, 'nextFiscalYearEnd': 1759017600, 'mostRecentQuarter': 1743206400, 'earningsQuarterlyGrowth': 0.048, 'netIncomeToCommon': 97294000128, 'trailingEps': 6.42, 'forwardEps': 8.31, 'lastSplitFactor': '4:1', 'lastSplitDate': 1598832000, 'enterpriseToRevenue': 7.731, 'enterpriseToEbitda': 22.291, '52WeekChange': 0.05592382, 'SandP52WeekChange': 0.119305134, 'lastDividendValue': 0.26, 'lastDividendDate': 1747008000, 'quoteType': 'EQUITY', 'currentPrice': 204.675, 'targetHighPrice': 300.0, 'targetLowPrice': 170.62, 'targetMeanPrice': 228.85326, 'targetMedianPrice': 232.5, 'recommendationMean': 2.1087, 'recommendationKey': 'buy', 'numberOfAnalystOpinions': 40, 'totalCash': 48497999872, 'totalCashPerShare': 3.247, 'ebitda': 138865999872, 'totalDebt': 98186002432, 'quickRatio': 0.68, 'currentRatio': 0.821, 'totalRevenue': 400366010368, 'debtToEquity': 146.994, 'revenuePerShare': 26.455, 'returnOnAssets': 0.23809999, 'returnOnEquity': 1.38015, 'grossProfits': 186699005952, 'freeCashflow': 97251500032, 'operatingCashflow': 109555998720, 'earningsGrowth': 0.078, 'revenueGrowth': 0.051, 'grossMargins': 0.46632, 'ebitdaMargins': 0.34685, 'operatingMargins': 0.31028998, 'financialCurrency': 'USD', 'symbol': 'AAPL', 'language': 'en-US', 'region': 'US', 'typeDisp': 'Equity', 'quoteSourceName': 'Nasdaq Real Time Price', 'triggerable': True, 'customPriceAlertConfidence': 'HIGH', 'shortName': 'Apple Inc.', 'regularMarketChangePercent': 0.37023658, 'regularMarketPrice': 204.675, 'regularMarketChange': 0.7550049, 'regularMarketDayRange': '203.98 - 206.0', 'fullExchangeName': 'NasdaqGS', 'averageDailyVolume3Month': 61982165, 'fiftyTwoWeekLowChange': 35.464996, 'fiftyTwoWeekLowChangePercent': 0.2095916, 'fiftyTwoWeekRange': '169.21 - 260.1', 'fiftyTwoWeekHighChange': -55.425003, 'fiftyTwoWeekHighChangePercent': -0.21309112, 'fiftyTwoWeekChangePercent': 5.592382, 'dividendDate': 1747267200, 'earningsTimestamp': 1746131400, 'earningsTimestampStart': 1753873140, 'earningsTimestampEnd': 1754308800, 'earningsCallTimestampStart': 1746133200, 'earningsCallTimestampEnd': 1746133200, 'isEarningsDateEstimate': True, 'epsTrailingTwelveMonths': 6.42, 'epsForward': 8.31, 'epsCurrentYear': 7.18956, 'priceEpsCurrentYear': 28.468363, 'fiftyDayAverageChange': 0.99560547, 'fiftyDayAverageChangePercent': 0.004888101, 'twoHundredDayAverageChange': -20.442795, 'twoHundredDayAverageChangePercent': -0.09080932, 'sourceInterval': 15, 'exchangeDataDelayedBy': 0, 'averageAnalystRating': '2.1 - Buy', 'hasPrePostMarketData': True, 'firstTradeDateMilliseconds': 345479400000, 'longName': 'Apple Inc.', 'cryptoTradeable': False, 'corporateActions': [], 'regularMarketTime': 1749480946, 'exchange': 'NMS', 'messageBoardId': 'finmb_24937', 'exchangeTimezoneName': 'America/New_York', 'exchangeTimezoneShortName': 'EDT', 'gmtOffSetMilliseconds': -14400000, 'market': 'us_market', 'esgPopulated': False, 'marketState': 'REGULAR', 'displayName': 'Apple', 'trailingPegRatio': 1.8515}\u001b[0m\u001b[32;1m\u001b[1;3mBased on the provided information, the key people at Apple Inc. are:\n",
      "\n",
      "1. Tim Cook - CEO & Director\n",
      "2. Jeffrey E. Williams - Chief Operating Officer\n",
      "3. Katherine L. Adams - Senior VP, General Counsel & Secretary\n",
      "4. Deirdre O'Brien - Chief People Officer & Senior VP of Retail\n",
      "5. Kevan Parekh - Senior VP & CFO\n",
      "6. Chris Kondo - Senior Director of Corporate Accounting\n",
      "7. Suhasini Chandramouli - Director of Investor Relations\n",
      "8. Kristin Huguet Quayle - Vice President of Worldwide Communications\n",
      "9. Greg Joswiak - Senior Vice President of Worldwide Marketing\n",
      "10. Adrian Perica - Vice President of Corporate Development\n",
      "\n",
      "These individuals are part of Apple's executive team and are responsible for various aspects of the company's operations, including finance, marketing, human resources, and more.\u001b[0m\n",
      "\n",
      "\u001b[1m> Finished chain.\u001b[0m\n"
     ]
    }
   ],
   "source": [
    "resp = finance_agent_executor.invoke({\"messages\": [HumanMessage(content=\"Summarize Key people at apple\")]})"
   ]
  },
  {
   "cell_type": "code",
   "execution_count": 20,
   "id": "69ba5291",
   "metadata": {},
   "outputs": [
    {
     "name": "stdout",
     "output_type": "stream",
     "text": [
      "\n",
      "\n",
      "\u001b[1m> Entering new AgentExecutor chain...\u001b[0m\n",
      "\u001b[32;1m\u001b[1;3m\n",
      "Invoking: `summary_of_institutional_holders` with `{'ticker': 'MSFT'}`\n",
      "\n",
      "\n",
      "\u001b[0m\u001b[33;1m\u001b[1;3m[{'Date Reported': Timestamp('2025-03-31 00:00:00'), 'Holder': 'Vanguard Group Inc', 'pctHeld': 0.093, 'Shares': 691386214, 'Value': 324927319530, 'pctChange': 0.0107}, {'Date Reported': Timestamp('2025-03-31 00:00:00'), 'Holder': 'Blackrock Inc.', 'pctHeld': 0.0785, 'Shares': 583284931, 'Value': 274123500461, 'pctChange': 0.012200001}, {'Date Reported': Timestamp('2025-03-31 00:00:00'), 'Holder': 'State Street Corporation', 'pctHeld': 0.0398, 'Shares': 296030244, 'Value': 139123852537, 'pctChange': 0.0031}, {'Date Reported': Timestamp('2025-03-31 00:00:00'), 'Holder': 'FMR, LLC', 'pctHeld': 0.026199998, 'Shares': 194591253, 'Value': 91451077503, 'pctChange': -0.0148}, {'Date Reported': Timestamp('2025-03-31 00:00:00'), 'Holder': 'Geode Capital Management, LLC', 'pctHeld': 0.023599999, 'Shares': 175469697, 'Value': 82464615508, 'pctChange': 0.0437}, {'Date Reported': Timestamp('2025-03-31 00:00:00'), 'Holder': 'JPMORGAN CHASE & CO', 'pctHeld': 0.0191, 'Shares': 142009968, 'Value': 66739714091, 'pctChange': 0.052399997}, {'Date Reported': Timestamp('2025-03-31 00:00:00'), 'Holder': 'Price (T.Rowe) Associates Inc', 'pctHeld': 0.0177, 'Shares': 131514660, 'Value': 61807286705, 'pctChange': -0.0269}, {'Date Reported': Timestamp('2025-03-31 00:00:00'), 'Holder': 'Morgan Stanley', 'pctHeld': 0.0167, 'Shares': 123846555, 'Value': 58203545767, 'pctChange': -0.013200001}, {'Date Reported': Timestamp('2024-12-31 00:00:00'), 'Holder': 'NORGES BANK', 'pctHeld': 0.014199999, 'Shares': 105202984, 'Value': 49441719990, 'pctChange': 0.0838}, {'Date Reported': Timestamp('2025-03-31 00:00:00'), 'Holder': 'Northern Trust Corporation', 'pctHeld': 0.0111, 'Shares': 82539834, 'Value': 38790832783, 'pctChange': -0.0149}]\u001b[0m\u001b[32;1m\u001b[1;3mThe top institutional holders of Microsoft stock are:\n",
      "\n",
      "1. Vanguard Group Inc - 9.3%\n",
      "2. Blackrock Inc. - 7.85%\n",
      "3. State Street Corporation - 3.98%\n",
      "4. FMR, LLC - 2.62%\n",
      "5. Geode Capital Management, LLC - 2.36%\n",
      "\n",
      "Note: The percentages and share values are based on the data provided and may not reflect the current holdings.\u001b[0m\n",
      "\n",
      "\u001b[1m> Finished chain.\u001b[0m\n",
      "The top institutional holders of Microsoft stock are:\n",
      "\n",
      "1. Vanguard Group Inc - 9.3%\n",
      "2. Blackrock Inc. - 7.85%\n",
      "3. State Street Corporation - 3.98%\n",
      "4. FMR, LLC - 2.62%\n",
      "5. Geode Capital Management, LLC - 2.36%\n",
      "\n",
      "Note: The percentages and share values are based on the data provided and may not reflect the current holdings.\n"
     ]
    }
   ],
   "source": [
    "resp = finance_agent_executor.invoke({\"messages\": [HumanMessage(content=\"Top institutional holders of microsoft stock.\")]})\n",
    "print(resp[\"output\"])"
   ]
  },
  {
   "cell_type": "code",
   "execution_count": 21,
   "id": "ae12599b",
   "metadata": {},
   "outputs": [
    {
     "name": "stdout",
     "output_type": "stream",
     "text": [
      "\n",
      "\n",
      "\u001b[1m> Entering new AgentExecutor chain...\u001b[0m\n",
      "\u001b[32;1m\u001b[1;3m\n",
      "Invoking: `stock_grade_updrages_downgrades` with `{'ticker': 'AAPL'}`\n",
      "\n",
      "\n",
      "\u001b[0m\u001b[38;5;200m\u001b[1;3m[{'Firm': 'Needham', 'ToGrade': 'Hold', 'FromGrade': 'Buy', 'Action': 'down', 'priceTargetAction': 'Maintains', 'currentPriceTarget': 225.0}, {'Firm': 'Rosenblatt', 'ToGrade': 'Neutral', 'FromGrade': 'Buy', 'Action': 'down', 'priceTargetAction': 'Lowers', 'currentPriceTarget': 217.0}, {'Firm': 'Jefferies', 'ToGrade': 'Underperform', 'FromGrade': 'Hold', 'Action': 'down', 'priceTargetAction': 'Raises', 'currentPriceTarget': 170.62}, {'Firm': 'Keybanc', 'ToGrade': 'Sector Weight', 'FromGrade': 'Underweight', 'Action': 'up', 'priceTargetAction': '', 'currentPriceTarget': 0.0}, {'Firm': 'Jefferies', 'ToGrade': 'Hold', 'FromGrade': 'Underperform', 'Action': 'up', 'priceTargetAction': 'Lowers', 'currentPriceTarget': 167.88}, {'Firm': 'Oppenheimer', 'ToGrade': 'Perform', 'FromGrade': 'Outperform', 'Action': 'down', 'priceTargetAction': '', 'currentPriceTarget': 0.0}, {'Firm': 'Piper Sandler', 'ToGrade': 'Perform', 'FromGrade': 'Outperform', 'Action': 'down', 'priceTargetAction': '', 'currentPriceTarget': 0.0}, {'Firm': 'Loop Capital', 'ToGrade': 'Hold', 'FromGrade': 'Buy', 'Action': 'down', 'priceTargetAction': 'Lowers', 'currentPriceTarget': 230.0}, {'Firm': 'Jefferies', 'ToGrade': 'Underperform', 'FromGrade': 'Hold', 'Action': 'down', 'priceTargetAction': 'Lowers', 'currentPriceTarget': 200.75}, {'Firm': 'MoffettNathanson', 'ToGrade': 'Sell', 'FromGrade': 'Neutral', 'Action': 'down', 'priceTargetAction': 'Maintains', 'currentPriceTarget': 188.0}]\u001b[0m\u001b[32;1m\u001b[1;3mThe firms that recently changed the grade of Apple stock are:\n",
      "\n",
      "* Needham (downgrade from Buy to Hold)\n",
      "* Rosenblatt (downgrade from Buy to Neutral)\n",
      "* Jefferies (downgrade from Hold to Underperform, and then upgrade from Underperform to Hold)\n",
      "* Keybanc (upgrade from Underweight to Sector Weight)\n",
      "* Jefferies (upgrade from Underperform to Hold)\n",
      "* Oppenheimer (downgrade from Outperform to Perform)\n",
      "* Piper Sandler (downgrade from Outperform to Perform)\n",
      "* Loop Capital (downgrade from Buy to Hold)\n",
      "* Jefferies (downgrade from Hold to Underperform)\n",
      "* MoffettNathanson (downgrade from Neutral to Sell)\n",
      "\n",
      "The rating changes are:\n",
      "\n",
      "* Needham: downgraded from Buy to Hold\n",
      "* Rosenblatt: downgraded from Buy to Neutral\n",
      "* Jefferies: downgraded from Hold to Underperform, and then upgraded from Underperform to Hold\n",
      "* Keybanc: upgraded from Underweight to Sector Weight\n",
      "* Jefferies: upgraded from Underperform to Hold\n",
      "* Oppenheimer: downgraded from Outperform to Perform\n",
      "* Piper Sandler: downgraded from Outperform to Perform\n",
      "* Loop Capital: downgraded from Buy to Hold\n",
      "* Jefferies: downgraded from Hold to Underperform\n",
      "* MoffettNathanson: downgraded from Neutral to Sell\u001b[0m\n",
      "\n",
      "\u001b[1m> Finished chain.\u001b[0m\n",
      "The firms that recently changed the grade of Apple stock are:\n",
      "\n",
      "* Needham (downgrade from Buy to Hold)\n",
      "* Rosenblatt (downgrade from Buy to Neutral)\n",
      "* Jefferies (downgrade from Hold to Underperform, and then upgrade from Underperform to Hold)\n",
      "* Keybanc (upgrade from Underweight to Sector Weight)\n",
      "* Jefferies (upgrade from Underperform to Hold)\n",
      "* Oppenheimer (downgrade from Outperform to Perform)\n",
      "* Piper Sandler (downgrade from Outperform to Perform)\n",
      "* Loop Capital (downgrade from Buy to Hold)\n",
      "* Jefferies (downgrade from Hold to Underperform)\n",
      "* MoffettNathanson (downgrade from Neutral to Sell)\n",
      "\n",
      "The rating changes are:\n",
      "\n",
      "* Needham: downgraded from Buy to Hold\n",
      "* Rosenblatt: downgraded from Buy to Neutral\n",
      "* Jefferies: downgraded from Hold to Underperform, and then upgraded from Underperform to Hold\n",
      "* Keybanc: upgraded from Underweight to Sector Weight\n",
      "* Jefferies: upgraded from Underperform to Hold\n",
      "* Oppenheimer: downgraded from Outperform to Perform\n",
      "* Piper Sandler: downgraded from Outperform to Perform\n",
      "* Loop Capital: downgraded from Buy to Hold\n",
      "* Jefferies: downgraded from Hold to Underperform\n",
      "* MoffettNathanson: downgraded from Neutral to Sell\n"
     ]
    }
   ],
   "source": [
    "resp = finance_agent_executor.invoke({\"messages\": [HumanMessage(content=\"Which firms recently changed grade of apple stock? Also, return rating changes.\")]})\n",
    "print(resp[\"output\"])"
   ]
  },
  {
   "cell_type": "code",
   "execution_count": null,
   "id": "6844697b",
   "metadata": {},
   "outputs": [],
   "source": []
  },
  {
   "cell_type": "code",
   "execution_count": null,
   "id": "1813ae50",
   "metadata": {},
   "outputs": [],
   "source": []
  }
 ],
 "metadata": {
  "kernelspec": {
   "display_name": ".venv",
   "language": "python",
   "name": "python3"
  },
  "language_info": {
   "codemirror_mode": {
    "name": "ipython",
    "version": 3
   },
   "file_extension": ".py",
   "mimetype": "text/x-python",
   "name": "python",
   "nbconvert_exporter": "python",
   "pygments_lexer": "ipython3",
   "version": "3.13.0"
  }
 },
 "nbformat": 4,
 "nbformat_minor": 5
}
